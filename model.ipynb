{
  "nbformat": 4,
  "nbformat_minor": 0,
  "metadata": {
    "colab": {
      "provenance": [],
      "authorship_tag": "ABX9TyPEpZvNMggqXSdlE3GcHJHX",
      "include_colab_link": true
    },
    "kernelspec": {
      "name": "python3",
      "display_name": "Python 3"
    },
    "language_info": {
      "name": "python"
    }
  },
  "cells": [
    {
      "cell_type": "markdown",
      "metadata": {
        "id": "view-in-github",
        "colab_type": "text"
      },
      "source": [
        "<a href=\"https://colab.research.google.com/github/steffiangel/KARBON/blob/main/model.ipynb\" target=\"_parent\"><img src=\"https://colab.research.google.com/assets/colab-badge.svg\" alt=\"Open In Colab\"/></a>"
      ]
    },
    {
      "cell_type": "code",
      "source": [
        "\n",
        "with open(\"data.json\", \"r\") as file:\n",
        "    data = json.load(file)\n",
        "print(\"Metadata:\", data.get(\"metadata\"))\n",
        "\n",
        "\n",
        "company_info = data.get(\"data\", {}).get(\"company\", {})\n",
        "print(\"Company Name:\", company_info.get(\"legal_name\"))\n",
        "print(\"Paid-up Capital:\", company_info.get(\"paid_up_capital\"))\n",
        "\n",
        "\n",
        "pan = company_info.get(\"pan\")\n",
        "website = company_info.get(\"website\")\n",
        "\n",
        "pan_flag = FLAGS.WHITE if not pan else FLAGS.GREEN\n",
        "website_flag = FLAGS.WHITE if not website else FLAGS.GREEN\n",
        "\n",
        "print(f\"PAN Flag: {pan_flag}, Website Flag: {website_flag}\")"
      ],
      "metadata": {
        "colab": {
          "base_uri": "https://localhost:8080/"
        },
        "id": "e-5ceW6iLrCr",
        "outputId": "47970a5e-00cf-43ba-d318-74bfb8e0bedf"
      },
      "execution_count": 6,
      "outputs": [
        {
          "output_type": "stream",
          "name": "stdout",
          "text": [
            "Metadata: {'api_version': '1.3', 'last_updated': '2023-01-20'}\n",
            "Company Name: TEST PRIVATE LIMITED\n",
            "Paid-up Capital: 1179.76\n",
            "PAN Flag: 1, Website Flag: 4\n"
          ]
        }
      ]
    },
    {
      "cell_type": "code",
      "source": [
        "import json\n",
        "import datetime\n",
        "\n",
        "class FLAGS:\n",
        "    GREEN = 1\n",
        "    AMBER = 2\n",
        "    RED = 0\n",
        "    MEDIUM_RISK = 3  # display purpose only\n",
        "    WHITE = 4  # data is missing for this field\n",
        "\n",
        "def latest_financial_index(data: dict) -> int:\n",
        "    financials = data.get(\"data\", {}).get(\"financials\", [])\n",
        "    latest_index = None\n",
        "    latest_date = None\n",
        "\n",
        "    for index, financial in enumerate(financials):\n",
        "        if financial.get(\"nature\") == \"STANDALONE\":\n",
        "            date_str = financial.get(\"year\")\n",
        "            if date_str:\n",
        "                try:\n",
        "                    current_date = datetime.datetime.strptime(date_str, \"%Y-%m-%d\")\n",
        "                    print(f\"Valid standalone entry at index {index}: {current_date}\")\n",
        "                except ValueError:\n",
        "                    print(f\"Invalid date format in entry {index}: {date_str}\")\n",
        "                    continue\n",
        "\n",
        "                if latest_date is None or current_date > latest_date:\n",
        "                    latest_date = current_date\n",
        "                    latest_index = index\n",
        "\n",
        "    return latest_index if latest_index is not None else 0\n",
        "\n",
        "def calculate_total_revenue(data: dict, financial_index: int) -> float:\n",
        "    financials = data.get(\"data\", {}).get(\"financials\", [])\n",
        "    if financial_index < 0 or financial_index >= len(financials):\n",
        "        print(f\"Invalid index: {financial_index}. Returning 0.\")\n",
        "        return 0.0\n",
        "\n",
        "    financial_entry = financials[financial_index]\n",
        "    pnl = financial_entry.get(\"pnl\", {})\n",
        "    line_items = pnl.get(\"lineItems\", {})\n",
        "    total_revenue = line_items.get(\"operating_profit\", 0) + line_items.get(\"other income\", 0)\n",
        "    return total_revenue\n",
        "\n",
        "def total_borrowing(data: dict, financial_index: int) -> float:\n",
        "    financials = data.get(\"data\", {}).get(\"financials\", [])\n",
        "    if financial_index < 0 or financial_index >= len(financials):\n",
        "        print(f\"Invalid index: {financial_index}. Returning 0.\")\n",
        "        return 0.0\n",
        "\n",
        "    financial_entry = financials[financial_index]\n",
        "    bs = financial_entry.get(\"bs\", {})\n",
        "    long_term_borrowings = bs.get(\"long_term_borrowings\", 0)\n",
        "    short_term_borrowings = bs.get(\"short_term_borrowings\", 0)\n",
        "\n",
        "    total_borrowings = long_term_borrowings + short_term_borrowings\n",
        "    revenue = calculate_total_revenue(data, financial_index)\n",
        "\n",
        "    if revenue == 0:\n",
        "        print(\"Total revenue is 0. Returning 0 for borrowing ratio.\")\n",
        "        return 0.0\n",
        "\n",
        "    borrowing_ratio = total_borrowings / revenue\n",
        "    return borrowing_ratio\n",
        "\n",
        "def iscr(data: dict, financial_index: int) -> float:\n",
        "    financials = data.get(\"data\", {}).get(\"financials\", [])\n",
        "    if financial_index < 0 or financial_index >= len(financials):\n",
        "        print(f\"Invalid index: {financial_index}. Returning 0.\")\n",
        "        return 0.0\n",
        "\n",
        "    financial_entry = financials[financial_index]\n",
        "    pnl = financial_entry.get(\"pnl\", {})\n",
        "    line_items = pnl.get(\"lineItems\", {})\n",
        "\n",
        "    profit_before_interest_and_tax = line_items.get(\"profit before_interest_and_tax\", 0)  # Adjust field names as necessary\n",
        "    depreciation = line_items.get(\"depreciation\", 0)\n",
        "    interest_expense = line_items.get(\"interest\", 0)\n",
        "\n",
        "    is_service_coverage_ratio = (profit_before_interest_and_tax + depreciation + 1) / (interest_expense + 1)\n",
        "    return is_service_coverage_ratio\n",
        "\n",
        "def iscr_flag(data: dict, financial_index: int):\n",
        "    is_service_coverage_ratio = iscr(data, financial_index)\n",
        "    return FLAGS.GREEN if is_service_coverage_ratio >= 2 else FLAGS.RED\n",
        "\n",
        "def total_revenue_5cr_flag(data: dict, financial_index: int) -> int:\n",
        "    total_revenue = calculate_total_revenue(data, financial_index)\n",
        "    return FLAGS.GREEN if total_revenue >= 50000000 else FLAGS.RED\n",
        "\n",
        "def borrowing_to_revenue_flag(data: dict, financial_index: int) -> int:\n",
        "    borrowing_ratio = total_borrowing(data, financial_index)\n",
        "    return FLAGS.GREEN if borrowing_ratio <= 0.25 else FLAGS.AMBER\n",
        "\n",
        "with open(\"data.json\", \"r\") as file:\n",
        "    data = json.load(file)\n",
        "\n",
        "index = latest_financial_index(data)\n",
        "print(f\"The index of the latest standalone financial entry is: {index}\")\n",
        "total_revenue = calculate_total_revenue(data, index)\n",
        "print(f\"The total revenue from the financial data at index {index} is: {total_revenue}\")\n",
        "borrowing_ratio = total_borrowing(data, index)\n",
        "print(f\"The ratio of total borrowings to total revenue at index {index} is: {borrowing_ratio:.2f}\")\n",
        "\n",
        "# Determine flags\n",
        "flag_color = iscr_flag(data, index)\n",
        "flag_color1 = total_revenue_5cr_flag(data, index)\n",
        "borrowing_flag_color = borrowing_to_revenue_flag(data, index)\n",
        "\n",
        "# Print results for flags\n",
        "if borrowing_flag_color == FLAGS.GREEN:\n",
        "    print(\"The borrowing to revenue flag color is: GREEN (Ratio is less than or equal to 0.25)\")\n",
        "elif borrowing_flag_color == FLAGS.AMBER:\n",
        "    print(\"The borrowing to revenue flag color is: AMBER (Ratio is greater than 0.25)\")\n",
        "\n",
        "if flag_color1 == FLAGS.GREEN:\n",
        "    print(\"The total revenue flag color is: GREEN (Revenue exceeds 50 million)\")\n",
        "elif flag_color1 == FLAGS.RED:\n",
        "    print(\"The total revenue flag color is: RED (Revenue is below 50 million)\")\n",
        "\n",
        "if flag_color == FLAGS.GREEN:\n",
        "    print(\"The ISCR flag color is: GREEN\")\n",
        "elif flag_color == FLAGS.RED:\n",
        "    print(\"The ISCR flag color is: RED\")\n",
        "\n"
      ],
      "metadata": {
        "colab": {
          "base_uri": "https://localhost:8080/"
        },
        "id": "0AkTEvBxOub8",
        "outputId": "914d1d0d-d8a0-40af-cb81-296cee2c50bf"
      },
      "execution_count": 7,
      "outputs": [
        {
          "output_type": "stream",
          "name": "stdout",
          "text": [
            "Valid standalone entry at index 0: 2022-03-31 00:00:00\n",
            "Valid standalone entry at index 1: 2021-03-31 00:00:00\n",
            "Valid standalone entry at index 2: 2020-03-31 00:00:00\n",
            "Valid standalone entry at index 3: 2019-03-31 00:00:00\n",
            "Valid standalone entry at index 4: 2018-03-31 00:00:00\n",
            "Valid standalone entry at index 5: 2017-03-31 00:00:00\n",
            "Valid standalone entry at index 6: 2016-03-31 00:00:00\n",
            "Valid standalone entry at index 7: 2015-03-31 00:00:00\n",
            "The index of the latest standalone financial entry is: 0\n",
            "The total revenue from the financial data at index 0 is: 599710\n",
            "The ratio of total borrowings to total revenue at index 0 is: 0.00\n",
            "The borrowing to revenue flag color is: GREEN (Ratio is less than or equal to 0.25)\n",
            "The total revenue flag color is: RED (Revenue is below 50 million)\n",
            "The ISCR flag color is: GREEN\n"
          ]
        }
      ]
    },
    {
      "cell_type": "code",
      "source": [],
      "metadata": {
        "id": "EuuePGzXJ5kU"
      },
      "execution_count": null,
      "outputs": []
    }
  ]
}